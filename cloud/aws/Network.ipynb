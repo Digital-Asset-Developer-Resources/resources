{
 "cells": [
  {
   "cell_type": "markdown",
   "metadata": {},
   "source": [
    "## AWS Create Network\n",
    "\n",
    "One time execution for creating VPC, network, keypair and IAM role in a specified AWS region.\n",
    "\n",
    "1. Import boto3 package \n",
    "2. Read *blockchain-nodes* profile found in ~.aws/credentials\n",
    "3. Create a EC2 session for instance creation\n",
    "4. IAM Role\n",
    "5. Keypair\n",
    "6. VPC\n",
    "7. InternetGateway\n",
    "8. Route Table\n",
    "9. Subnet\n",
    "10. Security Group"
   ]
  },
  {
   "cell_type": "code",
   "execution_count": null,
   "metadata": {
    "collapsed": true
   },
   "outputs": [],
   "source": [
    "import boto3\n",
    "import os\n",
    "\n",
    "session = boto3.Session(profile_name='blockchain-nodes')\n",
    "ec2 = session.resource('ec2')\n",
    "\n",
    "KEY_DIRECTORY = \"/YOUR/KEY/DIRECTORY/\"\n",
    "PREFIX = \"blockchain-nodes-\""
   ]
  },
  {
   "cell_type": "markdown",
   "metadata": {},
   "source": [
    "## Create IAM Role\n"
   ]
  },
  {
   "cell_type": "code",
   "execution_count": null,
   "metadata": {
    "collapsed": true
   },
   "outputs": [],
   "source": [
    "# Create IAM client\n",
    "iam = boto3.client('iam')\n",
    "policy = { \n",
    "    \"Version\": \"2012-10-17\", \"Statement\":\n",
    "    [ \n",
    "        { \n",
    "            \"Effect\": \"Allow\", \n",
    "            \"Principal\": { \"Service\": \"ec2.amazonaws.com\" }, \n",
    "            \"Action\": \"sts:AssumeRole\" \n",
    "        } \n",
    "    ]\n",
    "}\n",
    "\n",
    "tags = [\n",
    "        {\n",
    "            'Key': 'Name',\n",
    "            'Value': PREFIX + 'role'\n",
    "        },\n",
    "    ]\n",
    "\n",
    "response = iam.create_role(\n",
    "    Path='/',\n",
    "    RoleName=PREFIX + 'role',\n",
    "    AssumeRolePolicyDocument=json.dumps(policy),\n",
    "    Description='Minimal IAm role for EC2 create_instance profile',\n",
    "    MaxSessionDuration=3600,\n",
    "    Tags=tags\n",
    ")\n",
    "\n",
    "\n",
    "response = iam.attach_role_policy(\n",
    "    RoleName=PREFIX + 'role', PolicyArn='arn:aws:iam::aws:policy/AmazonS3FullAccess')\n",
    "\n",
    "print(response)"
   ]
  },
  {
   "cell_type": "markdown",
   "metadata": {},
   "source": [
    "## Create Key Pair for ssh into EC2 instances\n",
    "\n",
    "* key pem files can be used multiple times; just create on for all EC2 instances"
   ]
  },
  {
   "cell_type": "code",
   "execution_count": null,
   "metadata": {
    "collapsed": true
   },
   "outputs": [],
   "source": [
    "file = KEY_DIRECTORY + PREFIX + 'keypair.pem'\n",
    "outfile = open(file,'w')\n",
    "\n",
    "# call the boto ec2 function to create a key pair\n",
    "key_pair = ec2.create_key_pair(KeyName=KEY_NAME)\n",
    "\n",
    "# capture the key and store it in a file\n",
    "KeyPairOut = str(key_pair.key_material)\n",
    "print(KeyPairOut)\n",
    "outfile.write(KeyPairOut)\n",
    "outfile.close()\n",
    "\n",
    "os.chmod(file,0o400)"
   ]
  },
  {
   "cell_type": "markdown",
   "metadata": {},
   "source": [
    "## Create Virtual Private Cloud (VPC)"
   ]
  },
  {
   "cell_type": "code",
   "execution_count": null,
   "metadata": {
    "collapsed": true
   },
   "outputs": [],
   "source": [
    "vpc = ec2.create_vpc(CidrBlock='10.1.0.0/16')\n",
    "\n",
    "vpc.create_tags(Tags=[{\"Key\": \"Name\", \"Value\": PREFIX + 'vpc'}])\n",
    "\n",
    "vpc.wait_until_available()\n",
    "print(vpc.id)"
   ]
  },
  {
   "cell_type": "markdown",
   "metadata": {},
   "source": [
    "## Create and Attach Internet Gateway"
   ]
  },
  {
   "cell_type": "code",
   "execution_count": null,
   "metadata": {
    "collapsed": true
   },
   "outputs": [],
   "source": [
    "# create then attach internet gateway\n",
    "ig = ec2.create_internet_gateway()\n",
    "ig.create_tags(Tags=[{\"Key\": \"Name\", \"Value\": PREFIX + 'igw'}])\n",
    "vpc.attach_internet_gateway(InternetGatewayId=ig.id)\n",
    "print(ig.id)"
   ]
  },
  {
   "cell_type": "markdown",
   "metadata": {},
   "source": [
    "## Create a Route Table and a Public Route"
   ]
  },
  {
   "cell_type": "code",
   "execution_count": null,
   "metadata": {
    "collapsed": true
   },
   "outputs": [],
   "source": [
    "# create a route table and a public route\n",
    "route_table = vpc.create_route_table()\n",
    "route_table.create_tags(Tags=[{\"Key\": \"Name\", \"Value\": PREFIX + 'rt'}])\n",
    "\n",
    "route = route_table.create_route(\n",
    "    DestinationCidrBlock='0.0.0.0/0',\n",
    "    GatewayId=ig.id\n",
    ")\n",
    "\n",
    "print(route_table.id)"
   ]
  },
  {
   "cell_type": "markdown",
   "metadata": {},
   "source": [
    "## Create subnets\n"
   ]
  },
  {
   "cell_type": "code",
   "execution_count": null,
   "metadata": {
    "collapsed": true
   },
   "outputs": [],
   "source": [
    "# create subnet\n",
    "# only associate public nets with route table\n",
    "\n",
    "subnet = ec2.create_subnet(CidrBlock='10.1.1.0/24', VpcId=vpc.id, AvailabilityZone=SUBNET+'a')\n",
    "subnet.create_tags(Tags=[{\"Key\": \"Name\", \"Value\": SUBNET_NAME + \"public\"}])\n",
    "# associate the route table with the subnet\n",
    "route_table.associate_with_subnet(SubnetId=subnet.id)\n",
    "\n",
    "print('subnet',subnet.id)"
   ]
  },
  {
   "cell_type": "markdown",
   "metadata": {},
   "source": [
    "## Create Security Group"
   ]
  },
  {
   "cell_type": "code",
   "execution_count": null,
   "metadata": {
    "collapsed": true
   },
   "outputs": [],
   "source": [
    "# Create security group\n",
    "sec_group = ec2.create_security_group(\n",
    "    GroupName = PREFIX + 'sg', \n",
    "    Description = 'Allow SSH, HTTP and HTTPS', \n",
    "    VpcId = vpc.id)\n",
    "\n",
    "sec_group.authorize_ingress(\n",
    "    GroupId=sec_group.id,\n",
    "    IpPermissions=[\n",
    "        {'IpProtocol': 'tcp',\n",
    "         'FromPort': 80,\n",
    "         'ToPort': 80,\n",
    "         'IpRanges': [{'CidrIp': '0.0.0.0/0'}]},\n",
    "        {'IpProtocol': 'tcp',\n",
    "         'FromPort': 443,\n",
    "         'ToPort': 443,\n",
    "         'IpRanges': [{'CidrIp': '0.0.0.0/0'}]},\n",
    "        {'IpProtocol': 'tcp',\n",
    "         'FromPort': 22,\n",
    "         'ToPort': 22,\n",
    "         'IpRanges': [{'CidrIp': '0.0.0.0/0'}]}\n",
    "    ])\n",
    "\n",
    "sec_group.create_tags(Tags=[{\"Key\": \"Name\", \"Value\": PREFIX + 'sg'}])\n",
    "\n",
    "instance_security_group_id=sec_group.id\n",
    "\n",
    "print(sec_group.id)"
   ]
  }
 ],
 "metadata": {
  "kernelspec": {
   "display_name": "Python [conda env:res]",
   "language": "python",
   "name": "conda-env-res-py"
  },
  "language_info": {
   "codemirror_mode": {
    "name": "ipython",
    "version": 3
   },
   "file_extension": ".py",
   "mimetype": "text/x-python",
   "name": "python",
   "nbconvert_exporter": "python",
   "pygments_lexer": "ipython3",
   "version": "3.6.6"
  }
 },
 "nbformat": 4,
 "nbformat_minor": 2
}
